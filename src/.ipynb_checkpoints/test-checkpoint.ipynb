{
 "cells": [
  {
   "cell_type": "code",
   "execution_count": null,
   "metadata": {},
   "outputs": [],
   "source": [
    "import numpy as np\n",
    "import os\n",
    "import pickle as pkl\n",
    "\n",
    "from config import paths\n",
    "from matchers.matcher_diff import Matcher\n",
    "import sys\n",
    "from utils import plots\n",
    "import pickle\n",
    "import matplotlib.pyplot as plt\n",
    "from descr.descr_main import calculate_single\n",
    "\n",
    "input_df = os.path.join(paths.DESCRS, \"GxGxxG_descr.pkl\")\n",
    "output_matcher = os.path.join(paths.MATCHERS, \"GxGxxG_matcher_generic.pkl\")\n",
    "with open(input_df, 'rb', -1) as file:\n",
    "    df = pickle.load(file)\n",
    "matcher = Matcher()\n",
    "matcher.load(df)\n",
    "with open(output_matcher, 'wb') as file:\n",
    "    pickle.dump(matcher, file, -1)\n"
   ]
  },
  {
   "cell_type": "code",
   "execution_count": null,
   "metadata": {},
   "outputs": [],
   "source": []
  }
 ],
 "metadata": {
  "kernelspec": {
   "display_name": "Python 3",
   "language": "python",
   "name": "python3"
  },
  "language_info": {
   "codemirror_mode": {
    "name": "ipython",
    "version": 3
   },
   "file_extension": ".py",
   "mimetype": "text/x-python",
   "name": "python",
   "nbconvert_exporter": "python",
   "pygments_lexer": "ipython3",
   "version": "3.7.3"
  },
  "pycharm": {
   "stem_cell": {
    "cell_type": "raw",
    "metadata": {
     "collapsed": false
    },
    "source": []
   }
  }
 },
 "nbformat": 4,
 "nbformat_minor": 1
}
